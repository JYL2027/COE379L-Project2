{
 "cells": [
  {
   "cell_type": "code",
   "execution_count": 1,
   "id": "e5ec6e9b-c6ef-4635-9f66-9ecc0f4067de",
   "metadata": {},
   "outputs": [],
   "source": [
    "import numpy as np\n",
    "from numpy import asarray\n",
    "import matplotlib.pyplot as plt"
   ]
  },
  {
   "cell_type": "code",
   "execution_count": 2,
   "id": "00426134-4bbd-4bfd-9add-f821ce08ced0",
   "metadata": {},
   "outputs": [
    {
     "name": "stderr",
     "output_type": "stream",
     "text": [
      "2025-10-21 22:49:08.263482: I external/local_tsl/tsl/cuda/cudart_stub.cc:31] Could not find cuda drivers on your machine, GPU will not be used.\n",
      "2025-10-21 22:49:09.702562: E external/local_xla/xla/stream_executor/cuda/cuda_dnn.cc:9261] Unable to register cuDNN factory: Attempting to register factory for plugin cuDNN when one has already been registered\n",
      "2025-10-21 22:49:09.702708: E external/local_xla/xla/stream_executor/cuda/cuda_fft.cc:607] Unable to register cuFFT factory: Attempting to register factory for plugin cuFFT when one has already been registered\n",
      "2025-10-21 22:49:09.920449: E external/local_xla/xla/stream_executor/cuda/cuda_blas.cc:1515] Unable to register cuBLAS factory: Attempting to register factory for plugin cuBLAS when one has already been registered\n",
      "2025-10-21 22:49:10.490683: I external/local_tsl/tsl/cuda/cudart_stub.cc:31] Could not find cuda drivers on your machine, GPU will not be used.\n",
      "2025-10-21 22:49:10.501657: I tensorflow/core/platform/cpu_feature_guard.cc:182] This TensorFlow binary is optimized to use available CPU instructions in performance-critical operations.\n",
      "To enable the following instructions: AVX2 FMA, in other operations, rebuild TensorFlow with the appropriate compiler flags.\n",
      "2025-10-21 22:49:14.124428: W tensorflow/compiler/tf2tensorrt/utils/py_utils.cc:38] TF-TRT Warning: Could not find TensorRT\n"
     ]
    }
   ],
   "source": [
    "from PIL import Image\n",
    "from tensorflow.keras.preprocessing.image import load_img, img_to_array\n",
    "import os\n",
    "from os import listdir"
   ]
  },
  {
   "cell_type": "code",
   "execution_count": 3,
   "id": "247ece9a-cce3-45fb-a4be-6966235b47f1",
   "metadata": {},
   "outputs": [
    {
     "name": "stdout",
     "output_type": "stream",
     "text": [
      "Loaded images: (21322, 128, 128, 1)\n",
      "Labels: (21322,)\n"
     ]
    }
   ],
   "source": [
    "damagepath = \"/code/Project2/COE379L-Project2/damage\"\n",
    "nodamagepath = \"/code/Project2/COE379L-Project2/no_damage\"\n",
    "\n",
    "X = []\n",
    "y = []\n",
    "\n",
    "# Load damaged images and convert to black and white\n",
    "for img_name in os.listdir(damagepath):\n",
    "    if img_name.lower().endswith(('.png', '.jpg', '.jpeg')):\n",
    "        img_path = os.path.join(damagepath, img_name)\n",
    "        img = load_img(img_path)\n",
    "        img_gray = img.convert('L')\n",
    "        img_array = img_to_array(img_gray)\n",
    "        X.append(img_array)\n",
    "        y.append(1)\n",
    "\n",
    "# Load non-damaged images\n",
    "for img_name in os.listdir(nodamagepath):\n",
    "    if img_name.lower().endswith(('.png', '.jpg', '.jpeg')):\n",
    "        img_path = os.path.join(nodamagepath, img_name)\n",
    "        img = load_img(img_path)\n",
    "        img_gray = img.convert('L')\n",
    "        img_array = img_to_array(img_gray)\n",
    "        X.append(img_array)\n",
    "        y.append(0) \n",
    "\n",
    "# Convert to numpy arrays\n",
    "X = np.array(X)\n",
    "y = np.array(y)\n",
    "\n",
    "print(\"Loaded images:\", X.shape)\n",
    "print(\"Labels:\", y.shape)"
   ]
  },
  {
   "cell_type": "code",
   "execution_count": 4,
   "id": "406d7bb5-4d7d-40a4-8057-7d7792ce5ed4",
   "metadata": {},
   "outputs": [
    {
     "name": "stdout",
     "output_type": "stream",
     "text": [
      "Total images: (21322, 128, 128, 1)\n",
      "Total labels: (21322,)\n"
     ]
    }
   ],
   "source": [
    "print(\"Total images:\", X.shape)\n",
    "print(\"Total labels:\", y.shape)"
   ]
  },
  {
   "cell_type": "code",
   "execution_count": 5,
   "id": "71b45c4e-004c-4902-82e0-26d43f9caf81",
   "metadata": {},
   "outputs": [
    {
     "name": "stdout",
     "output_type": "stream",
     "text": [
      "Image shape (Height x Width x Channels): (128, 128, 1)\n",
      "All image shapes unique: [[128 128   1]]\n"
     ]
    }
   ],
   "source": [
    "print(\"Image shape (Height x Width x Channels):\", X[0].shape)\n",
    "print(\"All image shapes unique:\", np.unique([img.shape for img in X], axis=0))"
   ]
  },
  {
   "cell_type": "code",
   "execution_count": 6,
   "id": "d153331c-1cb7-4138-9824-d4793b3f894f",
   "metadata": {},
   "outputs": [
    {
     "name": "stdout",
     "output_type": "stream",
     "text": [
      "Min pixel value: 0.0\n",
      "Max pixel value: 255.0\n"
     ]
    }
   ],
   "source": [
    "print(\"Min pixel value:\", X.min())\n",
    "print(\"Max pixel value:\", X.max())"
   ]
  },
  {
   "cell_type": "code",
   "execution_count": 7,
   "id": "caf36e53-11eb-44fc-8b40-aa513b6ea741",
   "metadata": {},
   "outputs": [],
   "source": [
    "from sklearn.model_selection import train_test_split\n",
    "\n",
    "X_train, X_test, y_train, y_test = train_test_split(X, y, test_size = 0.2, random_state = 43, stratify = y)"
   ]
  },
  {
   "cell_type": "code",
   "execution_count": 9,
   "id": "7377e474-dc5d-42be-be3f-d34249c9f772",
   "metadata": {},
   "outputs": [],
   "source": [
    "# Now I will scale the image to a 1D array and Normalize the Data\n",
    "image_vector_size = 128 * 128\n",
    "X_train = X_train.reshape(X_train.shape[0], image_vector_size)\n",
    "X_test = X_test.reshape(X_test.shape[0], image_vector_size)\n",
    "X_train_normalized = X_train / 255.0\n",
    "X_test_normalized = X_test / 255.0"
   ]
  },
  {
   "cell_type": "code",
   "execution_count": null,
   "id": "9b2fc191-5cf9-4bd2-99ad-5762e7180feb",
   "metadata": {},
   "outputs": [],
   "source": []
  }
 ],
 "metadata": {
  "kernelspec": {
   "display_name": "Python 3 (ipykernel)",
   "language": "python",
   "name": "python3"
  },
  "language_info": {
   "codemirror_mode": {
    "name": "ipython",
    "version": 3
   },
   "file_extension": ".py",
   "mimetype": "text/x-python",
   "name": "python",
   "nbconvert_exporter": "python",
   "pygments_lexer": "ipython3",
   "version": "3.11.1"
  }
 },
 "nbformat": 4,
 "nbformat_minor": 5
}
