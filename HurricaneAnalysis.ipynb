{
 "cells": [
  {
   "cell_type": "code",
   "execution_count": 13,
   "id": "e5ec6e9b-c6ef-4635-9f66-9ecc0f4067de",
   "metadata": {},
   "outputs": [],
   "source": [
    "import pandas as pd\n",
    "import numpy as np"
   ]
  },
  {
   "cell_type": "code",
   "execution_count": 25,
   "id": "00426134-4bbd-4bfd-9add-f821ce08ced0",
   "metadata": {},
   "outputs": [],
   "source": [
    "from PIL import Image\n",
    "import os\n",
    "from os import listdir"
   ]
  },
  {
   "cell_type": "code",
   "execution_count": 26,
   "id": "247ece9a-cce3-45fb-a4be-6966235b47f1",
   "metadata": {},
   "outputs": [],
   "source": [
    "damagepath = \"/code/Project2/COE379L-Project2/damage\"\n",
    "nodamagepath = \"/code/Project2/COE379L-Project2/no_damage\"\n",
    "\n",
    "# Create data as a dictionary\n",
    "data = []\n",
    "\n",
    "for images in os.listdir(damagepath):\n",
    "    if (images.endswith(\".png\") or images.endswith(\".jpg\")\\\n",
    "        or images.endswith(\".jpeg\")):\n",
    "        data.append({\"Image\": images, \"Status\": 1})\n",
    "\n",
    "for images in os.listdir(nodamagepath):\n",
    "    if (images.endswith(\".png\") or images.endswith(\".jpg\")\\\n",
    "        or images.endswith(\".jpeg\")):\n",
    "        data.append({\"Image\": images, \"Status\": 0})\n",
    "\n",
    "data = pd.DataFrame(data)"
   ]
  },
  {
   "cell_type": "code",
   "execution_count": null,
   "id": "fa707477-c8c1-40fa-b24f-10b585c47d46",
   "metadata": {},
   "outputs": [],
   "source": []
  }
 ],
 "metadata": {
  "kernelspec": {
   "display_name": "Python 3 (ipykernel)",
   "language": "python",
   "name": "python3"
  },
  "language_info": {
   "codemirror_mode": {
    "name": "ipython",
    "version": 3
   },
   "file_extension": ".py",
   "mimetype": "text/x-python",
   "name": "python",
   "nbconvert_exporter": "python",
   "pygments_lexer": "ipython3",
   "version": "3.11.1"
  }
 },
 "nbformat": 4,
 "nbformat_minor": 5
}
