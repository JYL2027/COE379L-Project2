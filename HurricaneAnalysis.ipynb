{
 "cells": [
  {
   "cell_type": "code",
   "execution_count": 47,
   "id": "e5ec6e9b-c6ef-4635-9f66-9ecc0f4067de",
   "metadata": {},
   "outputs": [],
   "source": [
    "import numpy as np\n",
    "from numpy import asarray"
   ]
  },
  {
   "cell_type": "code",
   "execution_count": 48,
   "id": "00426134-4bbd-4bfd-9add-f821ce08ced0",
   "metadata": {},
   "outputs": [],
   "source": [
    "from PIL import Image\n",
    "from keras.preprocessing.image import load_img\n",
    "from keras.preprocessing.image import img_to_array\n",
    "import os\n",
    "from os import listdir"
   ]
  },
  {
   "cell_type": "code",
   "execution_count": null,
   "id": "247ece9a-cce3-45fb-a4be-6966235b47f1",
   "metadata": {},
   "outputs": [],
   "source": [
    "damagepath = \"/code/Project2/COE379L-Project2/damage\"\n",
    "nodamagepath = \"/code/Project2/COE379L-Project2/no_damage\"\n",
    "\n",
    "# Create independent and dependent variables as a dictionary\n",
    "X = []\n",
    "y = []\n",
    "for images in os.listdir(damagepath):\n",
    "    if (images.endswith(\".png\") or images.endswith(\".jpg\")\\\n",
    "        or images.endswith(\".jpeg\")):\n",
    "        img_path = os.path.join(damagepath, images)\n",
    "        img = load_img(img_path)\n",
    "        imagedata = img_to_array(img)\n",
    "        X.append(imagedata)\n",
    "        y.append(1)\n",
    "\n",
    "for images in os.listdir(nodamagepath):\n",
    "    if (images.endswith(\".png\") or images.endswith(\".jpg\")\\\n",
    "        or images.endswith(\".jpeg\")):\n",
    "        img_path = os.path.join(nodamagepath, images)\n",
    "        img = load_img(img_path)\n",
    "        imagedata = img_to_array(img) \n",
    "        X.append(imagedata)\n",
    "        y.append(0)\n",
    "X = np.array(X)  \n",
    "y = np.array(y)"
   ]
  },
  {
   "cell_type": "code",
   "execution_count": null,
   "id": "406d7bb5-4d7d-40a4-8057-7d7792ce5ed4",
   "metadata": {},
   "outputs": [],
   "source": [
    "print(\"Total images:\", X.shape[0])\n",
    "print(\"Total labels:\", y.shape[0])"
   ]
  },
  {
   "cell_type": "code",
   "execution_count": null,
   "id": "71b45c4e-004c-4902-82e0-26d43f9caf81",
   "metadata": {},
   "outputs": [],
   "source": []
  }
 ],
 "metadata": {
  "kernelspec": {
   "display_name": "Python 3 (ipykernel)",
   "language": "python",
   "name": "python3"
  },
  "language_info": {
   "codemirror_mode": {
    "name": "ipython",
    "version": 3
   },
   "file_extension": ".py",
   "mimetype": "text/x-python",
   "name": "python",
   "nbconvert_exporter": "python",
   "pygments_lexer": "ipython3",
   "version": "3.11.1"
  }
 },
 "nbformat": 4,
 "nbformat_minor": 5
}
