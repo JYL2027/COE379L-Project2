{
 "cells": [
  {
   "cell_type": "code",
   "execution_count": 1,
   "id": "e5ec6e9b-c6ef-4635-9f66-9ecc0f4067de",
   "metadata": {},
   "outputs": [],
   "source": [
    "import numpy as np\n",
    "from numpy import asarray\n",
    "import matplotlib.pyplot as plt"
   ]
  },
  {
   "cell_type": "code",
   "execution_count": 2,
   "id": "00426134-4bbd-4bfd-9add-f821ce08ced0",
   "metadata": {},
   "outputs": [
    {
     "name": "stderr",
     "output_type": "stream",
     "text": [
      "2025-10-22 20:52:52.834803: I external/local_tsl/tsl/cuda/cudart_stub.cc:31] Could not find cuda drivers on your machine, GPU will not be used.\n",
      "2025-10-22 20:52:52.888519: E external/local_xla/xla/stream_executor/cuda/cuda_dnn.cc:9261] Unable to register cuDNN factory: Attempting to register factory for plugin cuDNN when one has already been registered\n",
      "2025-10-22 20:52:52.888581: E external/local_xla/xla/stream_executor/cuda/cuda_fft.cc:607] Unable to register cuFFT factory: Attempting to register factory for plugin cuFFT when one has already been registered\n",
      "2025-10-22 20:52:52.892647: E external/local_xla/xla/stream_executor/cuda/cuda_blas.cc:1515] Unable to register cuBLAS factory: Attempting to register factory for plugin cuBLAS when one has already been registered\n",
      "2025-10-22 20:52:52.907586: I external/local_tsl/tsl/cuda/cudart_stub.cc:31] Could not find cuda drivers on your machine, GPU will not be used.\n",
      "2025-10-22 20:52:52.908765: I tensorflow/core/platform/cpu_feature_guard.cc:182] This TensorFlow binary is optimized to use available CPU instructions in performance-critical operations.\n",
      "To enable the following instructions: AVX2 FMA, in other operations, rebuild TensorFlow with the appropriate compiler flags.\n",
      "2025-10-22 20:52:53.817045: W tensorflow/compiler/tf2tensorrt/utils/py_utils.cc:38] TF-TRT Warning: Could not find TensorRT\n"
     ]
    }
   ],
   "source": [
    "from PIL import Image\n",
    "from tensorflow.keras.preprocessing.image import load_img, img_to_array\n",
    "import os\n",
    "from os import listdir"
   ]
  },
  {
   "cell_type": "code",
   "execution_count": 3,
   "id": "247ece9a-cce3-45fb-a4be-6966235b47f1",
   "metadata": {},
   "outputs": [
    {
     "name": "stdout",
     "output_type": "stream",
     "text": [
      "Loaded images: (21322, 128, 128, 1)\n",
      "Labels: (21322,)\n"
     ]
    }
   ],
   "source": [
    "damagepath = \"/code/Project2/COE379L-Project2/damage\"\n",
    "nodamagepath = \"/code/Project2/COE379L-Project2/no_damage\"\n",
    "\n",
    "X = []\n",
    "y = []\n",
    "\n",
    "# Load damaged images and convert to black and white\n",
    "for img_name in os.listdir(damagepath):\n",
    "    if img_name.lower().endswith(('.png', '.jpg', '.jpeg')):\n",
    "        img_path = os.path.join(damagepath, img_name)\n",
    "        img = load_img(img_path)\n",
    "        img_gray = img.convert('L')\n",
    "        img_array = img_to_array(img_gray)\n",
    "        X.append(img_array)\n",
    "        y.append(1)\n",
    "\n",
    "# Load non-damaged images\n",
    "for img_name in os.listdir(nodamagepath):\n",
    "    if img_name.lower().endswith(('.png', '.jpg', '.jpeg')):\n",
    "        img_path = os.path.join(nodamagepath, img_name)\n",
    "        img = load_img(img_path)\n",
    "        img_gray = img.convert('L')\n",
    "        img_array = img_to_array(img_gray)\n",
    "        X.append(img_array)\n",
    "        y.append(0) \n",
    "\n",
    "# Convert to numpy arrays\n",
    "X = np.array(X)\n",
    "y = np.array(y)\n",
    "\n",
    "print(\"Loaded images:\", X.shape)\n",
    "print(\"Labels:\", y.shape)"
   ]
  },
  {
   "cell_type": "code",
   "execution_count": 4,
   "id": "406d7bb5-4d7d-40a4-8057-7d7792ce5ed4",
   "metadata": {},
   "outputs": [
    {
     "name": "stdout",
     "output_type": "stream",
     "text": [
      "Total images: (21322, 128, 128, 1)\n",
      "Total labels: (21322,)\n"
     ]
    }
   ],
   "source": [
    "print(\"Total images:\", X.shape)\n",
    "print(\"Total labels:\", y.shape)"
   ]
  },
  {
   "cell_type": "code",
   "execution_count": 5,
   "id": "71b45c4e-004c-4902-82e0-26d43f9caf81",
   "metadata": {},
   "outputs": [
    {
     "name": "stdout",
     "output_type": "stream",
     "text": [
      "Image shape (Height x Width x Channels): (128, 128, 1)\n",
      "All image shapes unique: [[128 128   1]]\n"
     ]
    }
   ],
   "source": [
    "print(\"Image shape (Height x Width x Channels):\", X[0].shape)\n",
    "print(\"All image shapes unique:\", np.unique([img.shape for img in X], axis=0))"
   ]
  },
  {
   "cell_type": "code",
   "execution_count": 6,
   "id": "d153331c-1cb7-4138-9824-d4793b3f894f",
   "metadata": {},
   "outputs": [
    {
     "name": "stdout",
     "output_type": "stream",
     "text": [
      "Min pixel value: 0.0\n",
      "Max pixel value: 255.0\n"
     ]
    }
   ],
   "source": [
    "print(\"Min pixel value:\", X.min())\n",
    "print(\"Max pixel value:\", X.max())"
   ]
  },
  {
   "cell_type": "code",
   "execution_count": 7,
   "id": "caf36e53-11eb-44fc-8b40-aa513b6ea741",
   "metadata": {},
   "outputs": [],
   "source": [
    "from sklearn.model_selection import train_test_split\n",
    "\n",
    "X_train, X_test, y_train, y_test = train_test_split(X, y, test_size = 0.2, random_state = 43, stratify = y)"
   ]
  },
  {
   "cell_type": "code",
   "execution_count": 9,
   "id": "7377e474-dc5d-42be-be3f-d34249c9f772",
   "metadata": {},
   "outputs": [],
   "source": [
    "# Now I will scale the image to a 1D array and Normalize the Data\n",
    "image_vector_size = 128 * 128\n",
    "X_train = X_train.reshape(X_train.shape[0], image_vector_size)\n",
    "X_test = X_test.reshape(X_test.shape[0], image_vector_size)\n",
    "X_train_normalized = X_train / 255.0\n",
    "X_test_normalized = X_test / 255.0\n"
   ]
  },
  {
   "cell_type": "code",
   "execution_count": 9,
   "id": "77afa723-17c9-4365-acb1-b2d0e667cbef",
   "metadata": {},
   "outputs": [],
   "source": [
    "from keras.models import Sequential\n",
    "from keras.layers import Dense\n",
    "\n",
    "model = Sequential()\n",
    "# Here we map all the inputs to every perceptron (1024) creating a dense layer while also having 128*128 perceptrons in the first layer\n",
    "model.add(Dense(256, input_dim=image_vector_size, activation='relu'))\n",
    "\n",
    "# Here we create another dense layer except with less perceptrons\n",
    "model.add(Dense(128, activation='relu'))\n",
    "\n",
    "# Here we create another dense layer except with less perceptrons\n",
    "model.add(Dense(64, activation='relu'))\n",
    "\n",
    "# This is the output layer. The reason it only has 1 perceptron is because we are considering 0 to be \n",
    "# a non-destructed building and 1 to be a destructed building\n",
    "model.add(Dense(1, activation='sigmoid'))"
   ]
  },
  {
   "cell_type": "code",
   "execution_count": 10,
   "id": "e22b6112-d830-4e91-9e8e-b07bf7c0352b",
   "metadata": {},
   "outputs": [
    {
     "name": "stdout",
     "output_type": "stream",
     "text": [
      "Epoch 1/30\n"
     ]
    },
    {
     "name": "stderr",
     "output_type": "stream",
     "text": [
      "2025-10-22 20:53:09.609903: W external/local_tsl/tsl/framework/cpu_allocator_impl.cc:83] Allocation of 894238720 exceeds 10% of free system memory.\n"
     ]
    },
    {
     "name": "stdout",
     "output_type": "stream",
     "text": [
      "3412/3412 - 67s - loss: 0.6614 - accuracy: 0.6566 - val_loss: 0.6460 - val_accuracy: 0.6527 - 67s/epoch - 20ms/step\n",
      "Epoch 2/30\n",
      "3412/3412 - 58s - loss: 0.6366 - accuracy: 0.6676 - val_loss: 0.6460 - val_accuracy: 0.6527 - 58s/epoch - 17ms/step\n",
      "Epoch 3/30\n",
      "3412/3412 - 54s - loss: 0.6367 - accuracy: 0.6676 - val_loss: 0.6462 - val_accuracy: 0.6527 - 54s/epoch - 16ms/step\n",
      "Epoch 4/30\n",
      "3412/3412 - 55s - loss: 0.6365 - accuracy: 0.6676 - val_loss: 0.6458 - val_accuracy: 0.6527 - 55s/epoch - 16ms/step\n",
      "Epoch 5/30\n",
      "3412/3412 - 60s - loss: 0.6365 - accuracy: 0.6676 - val_loss: 0.6461 - val_accuracy: 0.6527 - 60s/epoch - 18ms/step\n",
      "Epoch 6/30\n",
      "3412/3412 - 53s - loss: 0.6364 - accuracy: 0.6676 - val_loss: 0.6472 - val_accuracy: 0.6527 - 53s/epoch - 16ms/step\n",
      "Epoch 7/30\n",
      "Restoring model weights from the end of the best epoch: 6.\n",
      "3412/3412 - 52s - loss: 0.6363 - accuracy: 0.6676 - val_loss: 0.6478 - val_accuracy: 0.6527 - 52s/epoch - 15ms/step\n",
      "Epoch 7: early stopping\n"
     ]
    },
    {
     "data": {
      "text/plain": [
       "<keras.src.callbacks.History at 0x75f6e8427610>"
      ]
     },
     "execution_count": 10,
     "metadata": {},
     "output_type": "execute_result"
    }
   ],
   "source": [
    "from keras.callbacks import EarlyStopping\n",
    "# Creating an early stopping condition for the model\n",
    "# This helps optimize the model\n",
    "# In this case we look at val_loss (monitor)\n",
    "# min_delta tells you the improvement required to not stop (.5 = if the epoch results in val_loss improving by < .5, then flag)\n",
    "# patience tells us how long to continue doing epochs in a row if the flag is raised (flag not raising x times in a row). it then quits\n",
    "# start_from_epoch tells us when to consider the early stopping\n",
    "# restore_best_weights tells us to go to the best epoch when done\n",
    "early_stopping = EarlyStopping(monitor='val_loss', min_delta=1e-3, patience=0, start_from_epoch=5, restore_best_weights=True, verbose=1)\n",
    "model.compile(optimizer='adam', loss='binary_crossentropy', metrics=['accuracy'])\n",
    "model.fit(X_train_normalized, y_train, validation_split=0.2, epochs=30, batch_size=4, verbose=2, callbacks=[early_stopping])"
   ]
  },
  {
   "cell_type": "code",
   "execution_count": 11,
   "id": "b9a35f25-47bc-49c1-9785-d65be5b4d878",
   "metadata": {},
   "outputs": [
    {
     "name": "stdout",
     "output_type": "stream",
     "text": [
      "Test Loss: 0.6383185982704163\n",
      "Test Accuracy: 0.6647127866744995\n"
     ]
    }
   ],
   "source": [
    "# Evaluate the model on the test set\n",
    "test_loss, test_accuracy = model.evaluate(X_test, y_test, verbose=0)\n",
    "print(\"Test Loss:\", test_loss)\n",
    "print(\"Test Accuracy:\", test_accuracy)"
   ]
  },
  {
   "cell_type": "code",
   "execution_count": null,
   "id": "5775206a-1a49-4a86-9726-4f92983b55d4",
   "id": "9b2fc191-5cf9-4bd2-99ad-5762e7180feb",
   "metadata": {},
   "outputs": [],
   "source": []
  }
 ],
 "metadata": {
  "kernelspec": {
   "display_name": "Python 3 (ipykernel)",
   "language": "python",
   "name": "python3"
  },
  "language_info": {
   "codemirror_mode": {
    "name": "ipython",
    "version": 3
   },
   "file_extension": ".py",
   "mimetype": "text/x-python",
   "name": "python",
   "nbconvert_exporter": "python",
   "pygments_lexer": "ipython3",
   "version": "3.11.1"
  }
 },
 "nbformat": 4,
 "nbformat_minor": 5
}
